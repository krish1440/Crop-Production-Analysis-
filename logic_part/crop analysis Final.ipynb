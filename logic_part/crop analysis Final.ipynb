{
 "cells": [
  {
   "cell_type": "code",
   "execution_count": 2,
   "id": "a7d75448",
   "metadata": {},
   "outputs": [],
   "source": [
    "# importing required libraries\n",
    "\n",
    "import pandas as pd,os\n",
    "import seaborn as sns\n",
    "import matplotlib.pyplot as plt \n",
    "import numpy as np\n",
    "import warnings\n",
    "warnings.filterwarnings('ignore')"
   ]
  },
  {
   "cell_type": "code",
   "execution_count": 4,
   "id": "4fa557b9",
   "metadata": {},
   "outputs": [
    {
     "name": "stdout",
     "output_type": "stream",
     "text": [
      "['Coconut+Tree.jpg', 'crop analysis Final.ipynb', 'crop image.jpg', 'crop-production_Architecture_Final.pdf', 'crop.jpg', 'crop1.avif', 'crop2.jpg', 'crop_analysis_final.pbix', 'crop_production.csv', 'crop_production_LLD.pdf', 'crop_production_Wireframe Documentation.pdf', 'HLD Report.pdf', 'README.md']\n"
     ]
    }
   ],
   "source": [
    "print(os.listdir())"
   ]
  },
  {
   "cell_type": "code",
   "execution_count": 5,
   "id": "e1014aad",
   "metadata": {},
   "outputs": [],
   "source": [
    "# loading dataset\n",
    "\n",
    "crop_df=pd.read_csv('crop_production.csv')"
   ]
  },
  {
   "cell_type": "code",
   "execution_count": 6,
   "id": "a0d76d3f",
   "metadata": {
    "scrolled": false
   },
   "outputs": [
    {
     "data": {
      "text/html": [
       "<div>\n",
       "<style scoped>\n",
       "    .dataframe tbody tr th:only-of-type {\n",
       "        vertical-align: middle;\n",
       "    }\n",
       "\n",
       "    .dataframe tbody tr th {\n",
       "        vertical-align: top;\n",
       "    }\n",
       "\n",
       "    .dataframe thead th {\n",
       "        text-align: right;\n",
       "    }\n",
       "</style>\n",
       "<table border=\"1\" class=\"dataframe\">\n",
       "  <thead>\n",
       "    <tr style=\"text-align: right;\">\n",
       "      <th></th>\n",
       "      <th>Unnamed: 0</th>\n",
       "      <th>State_Name</th>\n",
       "      <th>District_Name</th>\n",
       "      <th>Crop_Year</th>\n",
       "      <th>Season</th>\n",
       "      <th>Crop</th>\n",
       "      <th>Area</th>\n",
       "      <th>Production</th>\n",
       "      <th>Producation_area_factor</th>\n",
       "    </tr>\n",
       "  </thead>\n",
       "  <tbody>\n",
       "    <tr>\n",
       "      <th>0</th>\n",
       "      <td>0</td>\n",
       "      <td>Andaman and Nicobar Islands</td>\n",
       "      <td>NICOBARS</td>\n",
       "      <td>2000</td>\n",
       "      <td>Kharif</td>\n",
       "      <td>Arecanut</td>\n",
       "      <td>1254.0</td>\n",
       "      <td>2000.0</td>\n",
       "      <td>1.594896</td>\n",
       "    </tr>\n",
       "    <tr>\n",
       "      <th>1</th>\n",
       "      <td>1</td>\n",
       "      <td>Andaman and Nicobar Islands</td>\n",
       "      <td>NICOBARS</td>\n",
       "      <td>2000</td>\n",
       "      <td>Kharif</td>\n",
       "      <td>pulses</td>\n",
       "      <td>2.0</td>\n",
       "      <td>1.0</td>\n",
       "      <td>0.500000</td>\n",
       "    </tr>\n",
       "    <tr>\n",
       "      <th>2</th>\n",
       "      <td>2</td>\n",
       "      <td>Andaman and Nicobar Islands</td>\n",
       "      <td>NICOBARS</td>\n",
       "      <td>2000</td>\n",
       "      <td>Kharif</td>\n",
       "      <td>Rice</td>\n",
       "      <td>102.0</td>\n",
       "      <td>321.0</td>\n",
       "      <td>3.147059</td>\n",
       "    </tr>\n",
       "    <tr>\n",
       "      <th>3</th>\n",
       "      <td>3</td>\n",
       "      <td>Andaman and Nicobar Islands</td>\n",
       "      <td>NICOBARS</td>\n",
       "      <td>2000</td>\n",
       "      <td>Whole Year</td>\n",
       "      <td>Banana</td>\n",
       "      <td>176.0</td>\n",
       "      <td>641.0</td>\n",
       "      <td>3.642045</td>\n",
       "    </tr>\n",
       "    <tr>\n",
       "      <th>4</th>\n",
       "      <td>4</td>\n",
       "      <td>Andaman and Nicobar Islands</td>\n",
       "      <td>NICOBARS</td>\n",
       "      <td>2000</td>\n",
       "      <td>Whole Year</td>\n",
       "      <td>Cashewnut</td>\n",
       "      <td>720.0</td>\n",
       "      <td>165.0</td>\n",
       "      <td>0.229167</td>\n",
       "    </tr>\n",
       "  </tbody>\n",
       "</table>\n",
       "</div>"
      ],
      "text/plain": [
       "   Unnamed: 0                   State_Name District_Name  Crop_Year  \\\n",
       "0           0  Andaman and Nicobar Islands      NICOBARS       2000   \n",
       "1           1  Andaman and Nicobar Islands      NICOBARS       2000   \n",
       "2           2  Andaman and Nicobar Islands      NICOBARS       2000   \n",
       "3           3  Andaman and Nicobar Islands      NICOBARS       2000   \n",
       "4           4  Andaman and Nicobar Islands      NICOBARS       2000   \n",
       "\n",
       "       Season       Crop    Area  Production  Producation_area_factor  \n",
       "0      Kharif   Arecanut  1254.0      2000.0                 1.594896  \n",
       "1      Kharif     pulses     2.0         1.0                 0.500000  \n",
       "2      Kharif       Rice   102.0       321.0                 3.147059  \n",
       "3  Whole Year     Banana   176.0       641.0                 3.642045  \n",
       "4  Whole Year  Cashewnut   720.0       165.0                 0.229167  "
      ]
     },
     "execution_count": 6,
     "metadata": {},
     "output_type": "execute_result"
    }
   ],
   "source": [
    "crop_df.head()"
   ]
  },
  {
   "cell_type": "code",
   "execution_count": 7,
   "id": "9d72b402",
   "metadata": {},
   "outputs": [
    {
     "data": {
      "text/plain": [
       "Unnamed: 0                 0\n",
       "State_Name                 0\n",
       "District_Name              0\n",
       "Crop_Year                  0\n",
       "Season                     0\n",
       "Crop                       0\n",
       "Area                       0\n",
       "Production                 0\n",
       "Producation_area_factor    0\n",
       "dtype: int64"
      ]
     },
     "execution_count": 7,
     "metadata": {},
     "output_type": "execute_result"
    }
   ],
   "source": [
    "# checking null values count from dataset\n",
    "\n",
    "crop_df.isnull().sum()"
   ]
  },
  {
   "cell_type": "code",
   "execution_count": 8,
   "id": "69420d94",
   "metadata": {},
   "outputs": [],
   "source": [
    "# we have approx 243000 rows and out of that 3730 were null (1.53%) so we decided to drop these rows for better analysis\n",
    "crop_df.dropna(inplace=True) "
   ]
  },
  {
   "cell_type": "code",
   "execution_count": 9,
   "id": "6699e6d9",
   "metadata": {},
   "outputs": [
    {
     "data": {
      "text/plain": [
       "Unnamed: 0                 0\n",
       "State_Name                 0\n",
       "District_Name              0\n",
       "Crop_Year                  0\n",
       "Season                     0\n",
       "Crop                       0\n",
       "Area                       0\n",
       "Production                 0\n",
       "Producation_area_factor    0\n",
       "dtype: int64"
      ]
     },
     "execution_count": 9,
     "metadata": {},
     "output_type": "execute_result"
    }
   ],
   "source": [
    "# after droping null values there is no null value in dataset\n",
    "crop_df.isnull().sum()"
   ]
  },
  {
   "cell_type": "code",
   "execution_count": 10,
   "id": "3e169152",
   "metadata": {},
   "outputs": [
    {
     "data": {
      "text/plain": [
       "array(['Kharif', 'Whole Year', 'Rabi'], dtype=object)"
      ]
     },
     "execution_count": 10,
     "metadata": {},
     "output_type": "execute_result"
    }
   ],
   "source": [
    "# checking unique type of season\n",
    "crop_df.Season.unique()"
   ]
  },
  {
   "cell_type": "code",
   "execution_count": 11,
   "id": "3d4f42a8",
   "metadata": {},
   "outputs": [],
   "source": [
    "# here we remove unwanted white spaces from season column \n",
    "\n",
    "crop_df['Season']=crop_df['Season'].apply(lambda x : x.strip())\n",
    "crop_df['Crop']=crop_df['Crop'].apply(lambda x : x.strip())\n",
    "crop_df['Crop']=crop_df['State_Name'].apply(lambda x : x.strip())"
   ]
  },
  {
   "cell_type": "code",
   "execution_count": 12,
   "id": "6dd3de26",
   "metadata": {},
   "outputs": [
    {
     "data": {
      "text/plain": [
       "array(['Kharif', 'Whole Year', 'Rabi'], dtype=object)"
      ]
     },
     "execution_count": 12,
     "metadata": {},
     "output_type": "execute_result"
    }
   ],
   "source": [
    "# after removing white spaces\n",
    "\n",
    "crop_df.Season.unique()"
   ]
  },
  {
   "cell_type": "code",
   "execution_count": 13,
   "id": "a150d80a",
   "metadata": {},
   "outputs": [
    {
     "data": {
      "text/plain": [
       "Season\n",
       "Kharif        113468\n",
       "Rabi           71946\n",
       "Whole Year     51352\n",
       "Name: count, dtype: int64"
      ]
     },
     "execution_count": 13,
     "metadata": {},
     "output_type": "execute_result"
    }
   ],
   "source": [
    "# checking the values counts of each season\n",
    "\n",
    "crop_df['Season'].value_counts()"
   ]
  },
  {
   "cell_type": "code",
   "execution_count": 14,
   "id": "3c5141da",
   "metadata": {},
   "outputs": [],
   "source": [
    "'''since there are Three types of crop out of which two are mainly seasonal Rabi and Kharif and one is for whole year but\n",
    " 5 crops season were present in our datset.we got to know that summer and Autumn synonyms of Kharif and winter is synonyms of\n",
    " of Rabi so we decided to replace with their original name which is Kharif Rabi'''\n",
    "\n",
    "crop_df['Season']=crop_df['Season'].apply(lambda x : x.replace('Autumn','Kharif'))\n",
    "crop_df['Season']=crop_df['Season'].apply(lambda x : x.replace('Summer','Kharif'))\n",
    "crop_df['Season']=crop_df['Season'].apply(lambda x : x.replace('Winter','Rabi'))"
   ]
  },
  {
   "cell_type": "code",
   "execution_count": 15,
   "id": "cb0b4564",
   "metadata": {},
   "outputs": [
    {
     "data": {
      "text/plain": [
       "Season\n",
       "Kharif        113468\n",
       "Rabi           71946\n",
       "Whole Year     51352\n",
       "Name: count, dtype: int64"
      ]
     },
     "execution_count": 15,
     "metadata": {},
     "output_type": "execute_result"
    }
   ],
   "source": [
    "#Checking values counts of season after replacing wiyh their original name\n",
    "\n",
    "crop_df['Season'].value_counts()"
   ]
  },
  {
   "cell_type": "code",
   "execution_count": 16,
   "id": "759d3145",
   "metadata": {},
   "outputs": [
    {
     "name": "stdout",
     "output_type": "stream",
     "text": [
      "After removing the row which has 0 Production : 236766\n"
     ]
    }
   ],
   "source": [
    "# we have observed that many values of producation were 0 since it is represntating producation of whole district\n",
    "# so we decided drop all rows whose producation values are zero\n",
    "\n",
    "crop_df.drop(crop_df[crop_df['Production']==0].index,inplace=True)\n",
    "\n",
    "print(f'After removing the row which has 0 Production : {crop_df.shape[0]}')"
   ]
  },
  {
   "cell_type": "code",
   "execution_count": 17,
   "id": "a678da27",
   "metadata": {},
   "outputs": [
    {
     "data": {
      "text/plain": [
       "array(['Andaman and Nicobar Islands', 'Andhra Pradesh',\n",
       "       'Arunachal Pradesh', 'Assam', 'Bihar', 'Chandigarh',\n",
       "       'Chhattisgarh', 'Dadra and Nagar Haveli', 'Goa', 'Gujarat',\n",
       "       'Haryana', 'Himachal Pradesh', 'Jammu and Kashmir', 'Jharkhand',\n",
       "       'Karnataka', 'Kerala', 'Madhya Pradesh', 'Maharashtra', 'Manipur',\n",
       "       'Meghalaya', 'Mizoram', 'Nagaland', 'Odisha', 'Puducherry',\n",
       "       'Punjab', 'Rajasthan', 'Sikkim', 'Tamil Nadu', 'Telangana',\n",
       "       'Tripura', 'Uttar Pradesh', 'Uttarakhand', 'West Bengal'],\n",
       "      dtype=object)"
      ]
     },
     "execution_count": 17,
     "metadata": {},
     "output_type": "execute_result"
    }
   ],
   "source": [
    "# checking unique crops names \n",
    "# we observed that many crops were presenyed with their syononame so we decided all syononyms of crops to replace with their popular name\n",
    "# like paddy and rice are same so we replace paddy with Rice\n",
    "# also number of rows of crops sub-category were very less\n",
    "\n",
    "crop_df.Crop.unique()"
   ]
  },
  {
   "cell_type": "code",
   "execution_count": 18,
   "id": "eb650214",
   "metadata": {},
   "outputs": [],
   "source": [
    "# we have replaced  kapas to cotton etc.\n",
    "\n",
    "crop_df['Crop']=crop_df['Crop'].apply(lambda x:x.replace('Kapas','Cotton(lint)')\n",
    "                                      .replace('Cotton(lint)','Cotton'))\n",
    "\n",
    "crop_df.replace('Jute & mesta','Jute',inplace=True)\n",
    "crop_df.replace('Mesta','Jute',inplace=True)"
   ]
  },
  {
   "cell_type": "code",
   "execution_count": 19,
   "id": "d95cac82",
   "metadata": {},
   "outputs": [],
   "source": [
    "# we have replace sub-category of pulses with pulse\n",
    "\n",
    "crop_df['Crop']=crop_df['Crop'].apply(lambda x:x.replace('Other Kharif pulses','pulses')\n",
    "                                    .replace('Other  Rabi pulses','pulses')\n",
    "                                    .replace('Peas & beans (Pulses)','pulses')\n",
    "                                    .replace('Pulses total','pulses')\n",
    "                                    .replace('other misc. pulses','pulses')\n",
    "                                    .replace('Moong(Green Gram)','pulses')\n",
    "                                    .replace('Urad','pulses')\n",
    "                                    .replace('Arhar/Tur','pulses')\n",
    "                                    .replace('Bean','pulses')\n",
    "                                    .replace('Ricebean (nagadal)','pulses')\n",
    "                                    .replace('Lentil','pulses')\n",
    "                                    .replace('Masoor','pulses')\n",
    "                                    .replace('Khesari','pulses')\n",
    "                                    .replace('Horse-gram','pulses')\n",
    "                                    .replace('Rajmash Kholar','pulses'))"
   ]
  },
  {
   "cell_type": "code",
   "execution_count": 20,
   "id": "c171c3a0",
   "metadata": {},
   "outputs": [],
   "source": [
    "#we have corrected spelling mistake\n",
    "\n",
    "crop_df['Crop']=crop_df['Crop'].apply(lambda x:x\n",
    "                                    .replace('Atcanut (Raw)','Arecanut')\n",
    "                                    .replace('Arcanut (Processed)','Arecanut')\n",
    "                                    .replace('Arecanut','Arecanut'))"
   ]
  },
  {
   "cell_type": "code",
   "execution_count": 21,
   "id": "babf366e",
   "metadata": {},
   "outputs": [],
   "source": [
    "# we have replaced varienty of spices with othe spices\n",
    "\n",
    "crop_df['Crop']=crop_df['Crop'].apply(lambda x:x\n",
    "                                    .replace('Black pepper','Other Spices')\n",
    "                                    .replace('Cardamom','Other Spices')\n",
    "                                    .replace('Perilla','Other Spices'))"
   ]
  },
  {
   "cell_type": "code",
   "execution_count": 22,
   "id": "b7497d29",
   "metadata": {},
   "outputs": [],
   "source": [
    "#since number of rows for every fruits category were very less so we decided to megre all to fruits\n",
    "\n",
    "crop_df['Crop']=crop_df['Crop'].apply(lambda x:x\n",
    "                                    .replace('Papaya','Fruits')\n",
    "                                    .replace('Mango','Fruits')\n",
    "                                     .replace('Orange','Fruits')\n",
    "                                     .replace('Other Fresh Fruits','Fruits')\n",
    "                                     .replace('Pineapple','Fruits')\n",
    "                                     .replace('Citrus Fruit','Fruits')\n",
    "                                     .replace('Pome Fruit','Fruits')\n",
    "                                     .replace('Pome Granet','Fruits')\n",
    "                                     .replace('Grapes','Fruits')\n",
    "                                     .replace('Jack Fruit','Fruits')\n",
    "                                     .replace('Sapota','Fruits')\n",
    "                                     .replace('Lemon','Fruits'))\n"
   ]
  },
  {
   "cell_type": "code",
   "execution_count": 23,
   "id": "d0449af2",
   "metadata": {},
   "outputs": [],
   "source": [
    "# we have replace sub-category with their main-category \n",
    "\n",
    "crop_df['Crop']=crop_df['Crop'].apply(lambda x:x\n",
    "                                    .replace('Ginger','Dry ginger'))\n",
    "\n",
    "crop_df['Crop']=crop_df['Crop'].apply(lambda x:x\n",
    "                                    .replace('Turnip','Onion'))\n",
    "\n",
    "crop_df['Crop']=crop_df['Crop'].apply(lambda x:x\n",
    "                                      .replace('Cashewnut Raw','Cashewnut')\n",
    "                                      .replace('Cashewnut Processed','Cashewnut'))"
   ]
  },
  {
   "cell_type": "code",
   "execution_count": 24,
   "id": "aeea68b0",
   "metadata": {},
   "outputs": [],
   "source": [
    "# we have replace sub-category of gram with their main-category \n",
    "\n",
    "crop_df['Crop']=crop_df['Crop'].apply(lambda x:x\n",
    "                                      .replace('black gram','gram')\n",
    "                                     .replace('Moth','gram')\n",
    "                                     .replace('Blackgram','gram'))"
   ]
  },
  {
   "cell_type": "code",
   "execution_count": 25,
   "id": "9a8b6825",
   "metadata": {},
   "outputs": [],
   "source": [
    "# we have replace other Oilseeds total to  other oilseeds\n",
    "\n",
    "crop_df['Crop']=crop_df['Crop'].apply(lambda x:x\n",
    "                                      .replace('Oilseeds total' ,'other oilseeds')\n",
    "                                      .replace('Niger seed' ,'other oilseeds'))"
   ]
  },
  {
   "cell_type": "code",
   "execution_count": 26,
   "id": "c15b7f84",
   "metadata": {},
   "outputs": [],
   "source": [
    "# we have replace sub-category of milltes with their main-category \n",
    "\n",
    "crop_df['Crop']=crop_df['Crop'].apply(lambda x:x\n",
    "                                      .replace('Other Cereals & Millets' ,'Bajra')\n",
    "                                      .replace('Samai' ,'Bajra')\n",
    "                                      .replace('Small millets' ,'Bajra')\n",
    "                                      .replace('Ragi','Bajra')\n",
    "                                      .replace('Varagu','Bajra')\n",
    "                                      .replace('Jobster','Bajra'))"
   ]
  },
  {
   "cell_type": "code",
   "execution_count": 27,
   "id": "b3165d02",
   "metadata": {},
   "outputs": [],
   "source": [
    "# we have replace sub-category of Vegetables with their main-category \n",
    "\n",
    "crop_df['Crop']=crop_df['Crop'].apply(lambda x:x\n",
    "                                     .replace('Coriander' ,'Other Vegetables')\n",
    "                                     .replace('pulsess & Mutter(Vegetable)' ,'Other Vegetables')\n",
    "                                     .replace('Bhindi' ,'Other Vegetables')\n",
    "                                     .replace('Tomato','Other Vegetables')\n",
    "                                     .replace('Cowpea(Lobia)','Other Vegetables')\n",
    "                                     .replace('Cabbage','Other Vegetables')\n",
    "                                     .replace('Carrot','Other Vegetables')\n",
    "                                     .replace('Drum Stick','Other Vegetables')\n",
    "                                     .replace('Redish','Other Vegetables')\n",
    "                                     .replace('Cauliflower','Other Vegetables')\n",
    "                                     .replace('Colocosia','Other Vegetables')\n",
    "                                     .replace('Brinjal','Other Vegetables')\n",
    "                                     .replace('Bottle Gourd','Other Vegetables')\n",
    "                                     .replace('Bitter Gourd','Other Vegetables'))"
   ]
  },
  {
   "cell_type": "code",
   "execution_count": 28,
   "id": "879a2ed3",
   "metadata": {},
   "outputs": [],
   "source": [
    "#we have replace sub-category with their main-category\n",
    "\n",
    "crop_df['Crop']=crop_df['Crop'].apply(lambda x:x.replace('Niger seed','Sesamum'))\n",
    "crop_df['Crop']=crop_df['Crop'].apply(lambda x:x.replace('Korra','Total foodgrain'))\n",
    "crop_df['Crop']=crop_df['Crop'].apply(lambda x:x.replace('Paddy','Rice'))"
   ]
  },
  {
   "cell_type": "code",
   "execution_count": 29,
   "id": "79da4532",
   "metadata": {},
   "outputs": [],
   "source": [
    "#we have observed some cropes rows are very very less so it wont make any sense to visualization so we decided to drop those rows\n",
    "\n",
    "crop_df.drop(crop_df[crop_df['Crop']=='Tea'].index,inplace=True)\n",
    "crop_df.drop(crop_df[crop_df['Crop']=='Coffee'].index,inplace=True)\n",
    "crop_df.drop(crop_df[crop_df['Crop']=='Rubber'].index,inplace=True)\n",
    "crop_df.drop(crop_df[crop_df['Crop']=='Cond-spcs other'].index,inplace=True)"
   ]
  },
  {
   "cell_type": "code",
   "execution_count": 30,
   "id": "94e07c1b",
   "metadata": {},
   "outputs": [
    {
     "data": {
      "text/plain": [
       "array(['Andaman and Nicobar Islands', 'Andhra Pradesh',\n",
       "       'Arunachal Pradesh', 'Assam', 'Bihar', 'Chandigarh',\n",
       "       'Chhattisgarh', 'Dadra and Nagar Haveli', 'Goa', 'Gujarat',\n",
       "       'Haryana', 'Himachal Pradesh', 'Jammu and Kashmir', 'Jharkhand',\n",
       "       'Karnataka', 'Kerala', 'Madhya Pradesh', 'Maharashtra', 'Manipur',\n",
       "       'Meghalaya', 'Mizoram', 'Nagaland', 'Odisha', 'Puducherry',\n",
       "       'Punjab', 'Rajasthan', 'Sikkim', 'Tamil Nadu', 'Telangana',\n",
       "       'Tripura', 'Uttar Pradesh', 'Uttarakhand', 'West Bengal'],\n",
       "      dtype=object)"
      ]
     },
     "execution_count": 30,
     "metadata": {},
     "output_type": "execute_result"
    }
   ],
   "source": [
    "# checking unique crops types after replacement\n",
    "\n",
    "crop_df.Crop.unique()"
   ]
  },
  {
   "cell_type": "code",
   "execution_count": 31,
   "id": "fab6cb93",
   "metadata": {},
   "outputs": [],
   "source": [
    "# saving cleaned data file\n",
    "\n",
    "crop_df.to_csv('Crop_clean.csv')"
   ]
  },
  {
   "cell_type": "code",
   "execution_count": 177,
   "id": "05449377",
   "metadata": {},
   "outputs": [
    {
     "data": {
      "text/html": [
       "<div>\n",
       "<style scoped>\n",
       "    .dataframe tbody tr th:only-of-type {\n",
       "        vertical-align: middle;\n",
       "    }\n",
       "\n",
       "    .dataframe tbody tr th {\n",
       "        vertical-align: top;\n",
       "    }\n",
       "\n",
       "    .dataframe thead th {\n",
       "        text-align: right;\n",
       "    }\n",
       "</style>\n",
       "<table border=\"1\" class=\"dataframe\">\n",
       "  <thead>\n",
       "    <tr style=\"text-align: right;\">\n",
       "      <th></th>\n",
       "      <th>State_Name</th>\n",
       "      <th>District_Name</th>\n",
       "      <th>Crop_Year</th>\n",
       "      <th>Season</th>\n",
       "      <th>Crop</th>\n",
       "      <th>Area</th>\n",
       "      <th>Production</th>\n",
       "    </tr>\n",
       "  </thead>\n",
       "  <tbody>\n",
       "    <tr>\n",
       "      <th>0</th>\n",
       "      <td>Andaman and Nicobar Islands</td>\n",
       "      <td>NICOBARS</td>\n",
       "      <td>2000</td>\n",
       "      <td>Kharif</td>\n",
       "      <td>Arecanut</td>\n",
       "      <td>1254.0</td>\n",
       "      <td>2000.0</td>\n",
       "    </tr>\n",
       "    <tr>\n",
       "      <th>1</th>\n",
       "      <td>Andaman and Nicobar Islands</td>\n",
       "      <td>NICOBARS</td>\n",
       "      <td>2000</td>\n",
       "      <td>Kharif</td>\n",
       "      <td>pulses</td>\n",
       "      <td>2.0</td>\n",
       "      <td>1.0</td>\n",
       "    </tr>\n",
       "    <tr>\n",
       "      <th>2</th>\n",
       "      <td>Andaman and Nicobar Islands</td>\n",
       "      <td>NICOBARS</td>\n",
       "      <td>2000</td>\n",
       "      <td>Kharif</td>\n",
       "      <td>Rice</td>\n",
       "      <td>102.0</td>\n",
       "      <td>321.0</td>\n",
       "    </tr>\n",
       "    <tr>\n",
       "      <th>3</th>\n",
       "      <td>Andaman and Nicobar Islands</td>\n",
       "      <td>NICOBARS</td>\n",
       "      <td>2000</td>\n",
       "      <td>Whole Year</td>\n",
       "      <td>Banana</td>\n",
       "      <td>176.0</td>\n",
       "      <td>641.0</td>\n",
       "    </tr>\n",
       "    <tr>\n",
       "      <th>4</th>\n",
       "      <td>Andaman and Nicobar Islands</td>\n",
       "      <td>NICOBARS</td>\n",
       "      <td>2000</td>\n",
       "      <td>Whole Year</td>\n",
       "      <td>Cashewnut</td>\n",
       "      <td>720.0</td>\n",
       "      <td>165.0</td>\n",
       "    </tr>\n",
       "    <tr>\n",
       "      <th>...</th>\n",
       "      <td>...</td>\n",
       "      <td>...</td>\n",
       "      <td>...</td>\n",
       "      <td>...</td>\n",
       "      <td>...</td>\n",
       "      <td>...</td>\n",
       "      <td>...</td>\n",
       "    </tr>\n",
       "    <tr>\n",
       "      <th>246086</th>\n",
       "      <td>West Bengal</td>\n",
       "      <td>PURULIA</td>\n",
       "      <td>2014</td>\n",
       "      <td>Kharif</td>\n",
       "      <td>Rice</td>\n",
       "      <td>306.0</td>\n",
       "      <td>801.0</td>\n",
       "    </tr>\n",
       "    <tr>\n",
       "      <th>246087</th>\n",
       "      <td>West Bengal</td>\n",
       "      <td>PURULIA</td>\n",
       "      <td>2014</td>\n",
       "      <td>Kharif</td>\n",
       "      <td>Sesamum</td>\n",
       "      <td>627.0</td>\n",
       "      <td>463.0</td>\n",
       "    </tr>\n",
       "    <tr>\n",
       "      <th>246088</th>\n",
       "      <td>West Bengal</td>\n",
       "      <td>PURULIA</td>\n",
       "      <td>2014</td>\n",
       "      <td>Whole Year</td>\n",
       "      <td>Sugarcane</td>\n",
       "      <td>324.0</td>\n",
       "      <td>16250.0</td>\n",
       "    </tr>\n",
       "    <tr>\n",
       "      <th>246089</th>\n",
       "      <td>West Bengal</td>\n",
       "      <td>PURULIA</td>\n",
       "      <td>2014</td>\n",
       "      <td>Rabi</td>\n",
       "      <td>Rice</td>\n",
       "      <td>279151.0</td>\n",
       "      <td>597899.0</td>\n",
       "    </tr>\n",
       "    <tr>\n",
       "      <th>246090</th>\n",
       "      <td>West Bengal</td>\n",
       "      <td>PURULIA</td>\n",
       "      <td>2014</td>\n",
       "      <td>Rabi</td>\n",
       "      <td>Sesamum</td>\n",
       "      <td>175.0</td>\n",
       "      <td>88.0</td>\n",
       "    </tr>\n",
       "  </tbody>\n",
       "</table>\n",
       "<p>238723 rows × 7 columns</p>\n",
       "</div>"
      ],
      "text/plain": [
       "                         State_Name District_Name  Crop_Year      Season  \\\n",
       "0       Andaman and Nicobar Islands      NICOBARS       2000      Kharif   \n",
       "1       Andaman and Nicobar Islands      NICOBARS       2000      Kharif   \n",
       "2       Andaman and Nicobar Islands      NICOBARS       2000      Kharif   \n",
       "3       Andaman and Nicobar Islands      NICOBARS       2000  Whole Year   \n",
       "4       Andaman and Nicobar Islands      NICOBARS       2000  Whole Year   \n",
       "...                             ...           ...        ...         ...   \n",
       "246086                  West Bengal       PURULIA       2014      Kharif   \n",
       "246087                  West Bengal       PURULIA       2014      Kharif   \n",
       "246088                  West Bengal       PURULIA       2014  Whole Year   \n",
       "246089                  West Bengal       PURULIA       2014        Rabi   \n",
       "246090                  West Bengal       PURULIA       2014        Rabi   \n",
       "\n",
       "             Crop      Area  Production  \n",
       "0        Arecanut    1254.0      2000.0  \n",
       "1          pulses       2.0         1.0  \n",
       "2            Rice     102.0       321.0  \n",
       "3          Banana     176.0       641.0  \n",
       "4       Cashewnut     720.0       165.0  \n",
       "...           ...       ...         ...  \n",
       "246086       Rice     306.0       801.0  \n",
       "246087    Sesamum     627.0       463.0  \n",
       "246088  Sugarcane     324.0     16250.0  \n",
       "246089       Rice  279151.0    597899.0  \n",
       "246090    Sesamum     175.0        88.0  \n",
       "\n",
       "[238723 rows x 7 columns]"
      ]
     },
     "execution_count": 177,
     "metadata": {},
     "output_type": "execute_result"
    }
   ],
   "source": [
    "crop_df"
   ]
  },
  {
   "cell_type": "code",
   "execution_count": 178,
   "id": "894639b4",
   "metadata": {},
   "outputs": [
    {
     "data": {
      "text/html": [
       "<div>\n",
       "<style scoped>\n",
       "    .dataframe tbody tr th:only-of-type {\n",
       "        vertical-align: middle;\n",
       "    }\n",
       "\n",
       "    .dataframe tbody tr th {\n",
       "        vertical-align: top;\n",
       "    }\n",
       "\n",
       "    .dataframe thead th {\n",
       "        text-align: right;\n",
       "    }\n",
       "</style>\n",
       "<table border=\"1\" class=\"dataframe\">\n",
       "  <thead>\n",
       "    <tr style=\"text-align: right;\">\n",
       "      <th></th>\n",
       "      <th>State_Name</th>\n",
       "      <th>District_Name</th>\n",
       "      <th>Crop_Year</th>\n",
       "      <th>Season</th>\n",
       "      <th>Crop</th>\n",
       "      <th>Area</th>\n",
       "      <th>Production</th>\n",
       "    </tr>\n",
       "  </thead>\n",
       "  <tbody>\n",
       "    <tr>\n",
       "      <th>0</th>\n",
       "      <td>Andaman and Nicobar Islands</td>\n",
       "      <td>NICOBARS</td>\n",
       "      <td>2000</td>\n",
       "      <td>Kharif</td>\n",
       "      <td>Arecanut</td>\n",
       "      <td>1254.0</td>\n",
       "      <td>2000.0</td>\n",
       "    </tr>\n",
       "    <tr>\n",
       "      <th>1</th>\n",
       "      <td>Andaman and Nicobar Islands</td>\n",
       "      <td>NICOBARS</td>\n",
       "      <td>2000</td>\n",
       "      <td>Kharif</td>\n",
       "      <td>pulses</td>\n",
       "      <td>2.0</td>\n",
       "      <td>1.0</td>\n",
       "    </tr>\n",
       "    <tr>\n",
       "      <th>2</th>\n",
       "      <td>Andaman and Nicobar Islands</td>\n",
       "      <td>NICOBARS</td>\n",
       "      <td>2000</td>\n",
       "      <td>Kharif</td>\n",
       "      <td>Rice</td>\n",
       "      <td>102.0</td>\n",
       "      <td>321.0</td>\n",
       "    </tr>\n",
       "    <tr>\n",
       "      <th>3</th>\n",
       "      <td>Andaman and Nicobar Islands</td>\n",
       "      <td>NICOBARS</td>\n",
       "      <td>2000</td>\n",
       "      <td>Whole Year</td>\n",
       "      <td>Banana</td>\n",
       "      <td>176.0</td>\n",
       "      <td>641.0</td>\n",
       "    </tr>\n",
       "    <tr>\n",
       "      <th>4</th>\n",
       "      <td>Andaman and Nicobar Islands</td>\n",
       "      <td>NICOBARS</td>\n",
       "      <td>2000</td>\n",
       "      <td>Whole Year</td>\n",
       "      <td>Cashewnut</td>\n",
       "      <td>720.0</td>\n",
       "      <td>165.0</td>\n",
       "    </tr>\n",
       "    <tr>\n",
       "      <th>...</th>\n",
       "      <td>...</td>\n",
       "      <td>...</td>\n",
       "      <td>...</td>\n",
       "      <td>...</td>\n",
       "      <td>...</td>\n",
       "      <td>...</td>\n",
       "      <td>...</td>\n",
       "    </tr>\n",
       "    <tr>\n",
       "      <th>246086</th>\n",
       "      <td>West Bengal</td>\n",
       "      <td>PURULIA</td>\n",
       "      <td>2014</td>\n",
       "      <td>Kharif</td>\n",
       "      <td>Rice</td>\n",
       "      <td>306.0</td>\n",
       "      <td>801.0</td>\n",
       "    </tr>\n",
       "    <tr>\n",
       "      <th>246087</th>\n",
       "      <td>West Bengal</td>\n",
       "      <td>PURULIA</td>\n",
       "      <td>2014</td>\n",
       "      <td>Kharif</td>\n",
       "      <td>Sesamum</td>\n",
       "      <td>627.0</td>\n",
       "      <td>463.0</td>\n",
       "    </tr>\n",
       "    <tr>\n",
       "      <th>246088</th>\n",
       "      <td>West Bengal</td>\n",
       "      <td>PURULIA</td>\n",
       "      <td>2014</td>\n",
       "      <td>Whole Year</td>\n",
       "      <td>Sugarcane</td>\n",
       "      <td>324.0</td>\n",
       "      <td>16250.0</td>\n",
       "    </tr>\n",
       "    <tr>\n",
       "      <th>246089</th>\n",
       "      <td>West Bengal</td>\n",
       "      <td>PURULIA</td>\n",
       "      <td>2014</td>\n",
       "      <td>Rabi</td>\n",
       "      <td>Rice</td>\n",
       "      <td>279151.0</td>\n",
       "      <td>597899.0</td>\n",
       "    </tr>\n",
       "    <tr>\n",
       "      <th>246090</th>\n",
       "      <td>West Bengal</td>\n",
       "      <td>PURULIA</td>\n",
       "      <td>2014</td>\n",
       "      <td>Rabi</td>\n",
       "      <td>Sesamum</td>\n",
       "      <td>175.0</td>\n",
       "      <td>88.0</td>\n",
       "    </tr>\n",
       "  </tbody>\n",
       "</table>\n",
       "<p>238723 rows × 7 columns</p>\n",
       "</div>"
      ],
      "text/plain": [
       "                         State_Name District_Name  Crop_Year      Season  \\\n",
       "0       Andaman and Nicobar Islands      NICOBARS       2000      Kharif   \n",
       "1       Andaman and Nicobar Islands      NICOBARS       2000      Kharif   \n",
       "2       Andaman and Nicobar Islands      NICOBARS       2000      Kharif   \n",
       "3       Andaman and Nicobar Islands      NICOBARS       2000  Whole Year   \n",
       "4       Andaman and Nicobar Islands      NICOBARS       2000  Whole Year   \n",
       "...                             ...           ...        ...         ...   \n",
       "246086                  West Bengal       PURULIA       2014      Kharif   \n",
       "246087                  West Bengal       PURULIA       2014      Kharif   \n",
       "246088                  West Bengal       PURULIA       2014  Whole Year   \n",
       "246089                  West Bengal       PURULIA       2014        Rabi   \n",
       "246090                  West Bengal       PURULIA       2014        Rabi   \n",
       "\n",
       "             Crop      Area  Production  \n",
       "0        Arecanut    1254.0      2000.0  \n",
       "1          pulses       2.0         1.0  \n",
       "2            Rice     102.0       321.0  \n",
       "3          Banana     176.0       641.0  \n",
       "4       Cashewnut     720.0       165.0  \n",
       "...           ...       ...         ...  \n",
       "246086       Rice     306.0       801.0  \n",
       "246087    Sesamum     627.0       463.0  \n",
       "246088  Sugarcane     324.0     16250.0  \n",
       "246089       Rice  279151.0    597899.0  \n",
       "246090    Sesamum     175.0        88.0  \n",
       "\n",
       "[238723 rows x 7 columns]"
      ]
     },
     "execution_count": 178,
     "metadata": {},
     "output_type": "execute_result"
    }
   ],
   "source": [
    "crop_df"
   ]
  },
  {
   "cell_type": "code",
   "execution_count": 32,
   "id": "62ddd748",
   "metadata": {},
   "outputs": [],
   "source": [
    "# to find outlier we created new column Producation_area_factor\n",
    "\n",
    "crop_df['Producation_area_factor']= crop_df['Production'] / crop_df['Area']"
   ]
  },
  {
   "cell_type": "code",
   "execution_count": 180,
   "id": "79ef2607",
   "metadata": {},
   "outputs": [
    {
     "data": {
      "text/html": [
       "<div>\n",
       "<style scoped>\n",
       "    .dataframe tbody tr th:only-of-type {\n",
       "        vertical-align: middle;\n",
       "    }\n",
       "\n",
       "    .dataframe tbody tr th {\n",
       "        vertical-align: top;\n",
       "    }\n",
       "\n",
       "    .dataframe thead th {\n",
       "        text-align: right;\n",
       "    }\n",
       "</style>\n",
       "<table border=\"1\" class=\"dataframe\">\n",
       "  <thead>\n",
       "    <tr style=\"text-align: right;\">\n",
       "      <th></th>\n",
       "      <th>State_Name</th>\n",
       "      <th>District_Name</th>\n",
       "      <th>Crop_Year</th>\n",
       "      <th>Season</th>\n",
       "      <th>Crop</th>\n",
       "      <th>Area</th>\n",
       "      <th>Production</th>\n",
       "      <th>Producation_area_factor</th>\n",
       "    </tr>\n",
       "  </thead>\n",
       "  <tbody>\n",
       "    <tr>\n",
       "      <th>0</th>\n",
       "      <td>Andaman and Nicobar Islands</td>\n",
       "      <td>NICOBARS</td>\n",
       "      <td>2000</td>\n",
       "      <td>Kharif</td>\n",
       "      <td>Arecanut</td>\n",
       "      <td>1254.0</td>\n",
       "      <td>2000.0</td>\n",
       "      <td>1.594896</td>\n",
       "    </tr>\n",
       "    <tr>\n",
       "      <th>1</th>\n",
       "      <td>Andaman and Nicobar Islands</td>\n",
       "      <td>NICOBARS</td>\n",
       "      <td>2000</td>\n",
       "      <td>Kharif</td>\n",
       "      <td>pulses</td>\n",
       "      <td>2.0</td>\n",
       "      <td>1.0</td>\n",
       "      <td>0.500000</td>\n",
       "    </tr>\n",
       "    <tr>\n",
       "      <th>2</th>\n",
       "      <td>Andaman and Nicobar Islands</td>\n",
       "      <td>NICOBARS</td>\n",
       "      <td>2000</td>\n",
       "      <td>Kharif</td>\n",
       "      <td>Rice</td>\n",
       "      <td>102.0</td>\n",
       "      <td>321.0</td>\n",
       "      <td>3.147059</td>\n",
       "    </tr>\n",
       "    <tr>\n",
       "      <th>3</th>\n",
       "      <td>Andaman and Nicobar Islands</td>\n",
       "      <td>NICOBARS</td>\n",
       "      <td>2000</td>\n",
       "      <td>Whole Year</td>\n",
       "      <td>Banana</td>\n",
       "      <td>176.0</td>\n",
       "      <td>641.0</td>\n",
       "      <td>3.642045</td>\n",
       "    </tr>\n",
       "    <tr>\n",
       "      <th>4</th>\n",
       "      <td>Andaman and Nicobar Islands</td>\n",
       "      <td>NICOBARS</td>\n",
       "      <td>2000</td>\n",
       "      <td>Whole Year</td>\n",
       "      <td>Cashewnut</td>\n",
       "      <td>720.0</td>\n",
       "      <td>165.0</td>\n",
       "      <td>0.229167</td>\n",
       "    </tr>\n",
       "    <tr>\n",
       "      <th>...</th>\n",
       "      <td>...</td>\n",
       "      <td>...</td>\n",
       "      <td>...</td>\n",
       "      <td>...</td>\n",
       "      <td>...</td>\n",
       "      <td>...</td>\n",
       "      <td>...</td>\n",
       "      <td>...</td>\n",
       "    </tr>\n",
       "    <tr>\n",
       "      <th>246086</th>\n",
       "      <td>West Bengal</td>\n",
       "      <td>PURULIA</td>\n",
       "      <td>2014</td>\n",
       "      <td>Kharif</td>\n",
       "      <td>Rice</td>\n",
       "      <td>306.0</td>\n",
       "      <td>801.0</td>\n",
       "      <td>2.617647</td>\n",
       "    </tr>\n",
       "    <tr>\n",
       "      <th>246087</th>\n",
       "      <td>West Bengal</td>\n",
       "      <td>PURULIA</td>\n",
       "      <td>2014</td>\n",
       "      <td>Kharif</td>\n",
       "      <td>Sesamum</td>\n",
       "      <td>627.0</td>\n",
       "      <td>463.0</td>\n",
       "      <td>0.738437</td>\n",
       "    </tr>\n",
       "    <tr>\n",
       "      <th>246088</th>\n",
       "      <td>West Bengal</td>\n",
       "      <td>PURULIA</td>\n",
       "      <td>2014</td>\n",
       "      <td>Whole Year</td>\n",
       "      <td>Sugarcane</td>\n",
       "      <td>324.0</td>\n",
       "      <td>16250.0</td>\n",
       "      <td>50.154321</td>\n",
       "    </tr>\n",
       "    <tr>\n",
       "      <th>246089</th>\n",
       "      <td>West Bengal</td>\n",
       "      <td>PURULIA</td>\n",
       "      <td>2014</td>\n",
       "      <td>Rabi</td>\n",
       "      <td>Rice</td>\n",
       "      <td>279151.0</td>\n",
       "      <td>597899.0</td>\n",
       "      <td>2.141848</td>\n",
       "    </tr>\n",
       "    <tr>\n",
       "      <th>246090</th>\n",
       "      <td>West Bengal</td>\n",
       "      <td>PURULIA</td>\n",
       "      <td>2014</td>\n",
       "      <td>Rabi</td>\n",
       "      <td>Sesamum</td>\n",
       "      <td>175.0</td>\n",
       "      <td>88.0</td>\n",
       "      <td>0.502857</td>\n",
       "    </tr>\n",
       "  </tbody>\n",
       "</table>\n",
       "<p>238723 rows × 8 columns</p>\n",
       "</div>"
      ],
      "text/plain": [
       "                         State_Name District_Name  Crop_Year      Season  \\\n",
       "0       Andaman and Nicobar Islands      NICOBARS       2000      Kharif   \n",
       "1       Andaman and Nicobar Islands      NICOBARS       2000      Kharif   \n",
       "2       Andaman and Nicobar Islands      NICOBARS       2000      Kharif   \n",
       "3       Andaman and Nicobar Islands      NICOBARS       2000  Whole Year   \n",
       "4       Andaman and Nicobar Islands      NICOBARS       2000  Whole Year   \n",
       "...                             ...           ...        ...         ...   \n",
       "246086                  West Bengal       PURULIA       2014      Kharif   \n",
       "246087                  West Bengal       PURULIA       2014      Kharif   \n",
       "246088                  West Bengal       PURULIA       2014  Whole Year   \n",
       "246089                  West Bengal       PURULIA       2014        Rabi   \n",
       "246090                  West Bengal       PURULIA       2014        Rabi   \n",
       "\n",
       "             Crop      Area  Production  Producation_area_factor  \n",
       "0        Arecanut    1254.0      2000.0                 1.594896  \n",
       "1          pulses       2.0         1.0                 0.500000  \n",
       "2            Rice     102.0       321.0                 3.147059  \n",
       "3          Banana     176.0       641.0                 3.642045  \n",
       "4       Cashewnut     720.0       165.0                 0.229167  \n",
       "...           ...       ...         ...                      ...  \n",
       "246086       Rice     306.0       801.0                 2.617647  \n",
       "246087    Sesamum     627.0       463.0                 0.738437  \n",
       "246088  Sugarcane     324.0     16250.0                50.154321  \n",
       "246089       Rice  279151.0    597899.0                 2.141848  \n",
       "246090    Sesamum     175.0        88.0                 0.502857  \n",
       "\n",
       "[238723 rows x 8 columns]"
      ]
     },
     "execution_count": 180,
     "metadata": {},
     "output_type": "execute_result"
    }
   ],
   "source": [
    "# checking newly created column \n",
    "\n",
    "crop_df"
   ]
  },
  {
   "cell_type": "code",
   "execution_count": 33,
   "id": "16f5bb86",
   "metadata": {},
   "outputs": [
    {
     "data": {
      "text/plain": [
       "(np.float64(90.0), np.float64(4638.0))"
      ]
     },
     "execution_count": 33,
     "metadata": {},
     "output_type": "execute_result"
    }
   ],
   "source": [
    "Q1 = crop_df['Area'].quantile(0.25)\n",
    "Q3 = crop_df['Area'].quantile(0.75)\n",
    "Q1, Q3"
   ]
  },
  {
   "cell_type": "code",
   "execution_count": 34,
   "id": "fa4ac925",
   "metadata": {},
   "outputs": [],
   "source": [
    "IQR = Q3 - Q1   "
   ]
  },
  {
   "cell_type": "code",
   "execution_count": 35,
   "id": "3882e8ec",
   "metadata": {},
   "outputs": [
    {
     "data": {
      "text/plain": [
       "(np.float64(-6732.0), np.float64(11460.0))"
      ]
     },
     "execution_count": 35,
     "metadata": {},
     "output_type": "execute_result"
    }
   ],
   "source": [
    "lower_limit = Q1 - 1.5*IQR\n",
    "upper_limit = Q3 + 1.5*IQR\n",
    "lower_limit,upper_limit"
   ]
  },
  {
   "cell_type": "code",
   "execution_count": 36,
   "id": "14ce8d45",
   "metadata": {},
   "outputs": [],
   "source": [
    "area_outlier = crop_df[(crop_df['Area'] < lower_limit) | (crop_df['Area'] > upper_limit)]"
   ]
  },
  {
   "cell_type": "code",
   "execution_count": 186,
   "id": "70fe4cf8",
   "metadata": {},
   "outputs": [
    {
     "data": {
      "text/plain": [
       "Rice                 9138\n",
       "Wheat                5080\n",
       "pulses               4668\n",
       "Maize                2514\n",
       "Bajra                2312\n",
       "Gram                 1974\n",
       "Jowar                1902\n",
       "Cotton               1474\n",
       "Rapeseed &Mustard    1469\n",
       "Groundnut            1449\n",
       "Sugarcane            1321\n",
       "Soyabean             1069\n",
       "Sesamum               574\n",
       "Coconut               556\n",
       "Sunflower             498\n",
       "Potato                387\n",
       "Jute                  298\n",
       "Guar seed             246\n",
       "Castor seed           241\n",
       "other oilseeds        238\n",
       "Dry chillies          173\n",
       "Arecanut              169\n",
       "Cashewnut             163\n",
       "Barley                154\n",
       "Total foodgrain       153\n",
       "Tobacco               144\n",
       "Safflower             137\n",
       "Other Vegetables      111\n",
       "gram                  103\n",
       "Linseed                99\n",
       "Tapioca                93\n",
       "Onion                  83\n",
       "Other Spices           71\n",
       "Fruits                 63\n",
       "Banana                 33\n",
       "Turmeric               30\n",
       "Garlic                 11\n",
       "Dry ginger              6\n",
       "Name: Crop, dtype: int64"
      ]
     },
     "execution_count": 186,
     "metadata": {},
     "output_type": "execute_result"
    }
   ],
   "source": [
    "area_outlier['Crop'].value_counts()"
   ]
  },
  {
   "cell_type": "code",
   "execution_count": 187,
   "id": "c092dcab",
   "metadata": {},
   "outputs": [],
   "source": [
    "# Since india very big country for better vislization we will divide states name in four zone (East , West , North ,South) \n",
    "# details of these zones are mentioned below"
   ]
  },
  {
   "cell_type": "code",
   "execution_count": 37,
   "id": "0613e774",
   "metadata": {},
   "outputs": [],
   "source": [
    "West_India= ['Maharashtra','Goa','Gujarat','Dadra and Nagar Haveli']\n",
    "East_India= ['Arunachal Pradesh','Assam','Manipur','Meghalaya','Mizoram','Nagaland','Sikkim','Tripura','West Bengal','Bihar','Odisha','Jharkhand' ]\n",
    "North_India=['Jammu and Kashmir ','Himachal Pradesh','Punjab','Uttarakhand','Haryana','Rajasthan','Uttar Pradesh','Chandigarh','Madhya Pradesh','Chhattisgarh']   # Delhi\n",
    "South_India = ['Andhra Pradesh','Karnataka','Kerala','Tamil Nadu','Telangana','Puducherry']"
   ]
  },
  {
   "cell_type": "code",
   "execution_count": 38,
   "id": "a1507255",
   "metadata": {},
   "outputs": [],
   "source": [
    "# creating a list for zones\n",
    "zone = []\n",
    "\n",
    "for df in crop_df['State_Name']:\n",
    "    if df in West_India:\n",
    "         zone.append('West India')\n",
    "    elif df in East_India:\n",
    "         zone.append('EastIndia')\n",
    "    elif df in North_India:\n",
    "         zone.append('North India')\n",
    "    elif df in South_India: \n",
    "         zone.append('South India')\n",
    "    else:\n",
    "         zone.append('Union Territory')"
   ]
  },
  {
   "cell_type": "code",
   "execution_count": 39,
   "id": "922316ce",
   "metadata": {},
   "outputs": [],
   "source": [
    "# creatinh new column \n",
    "crop_df['zone'] = zone"
   ]
  },
  {
   "cell_type": "code",
   "execution_count": 40,
   "id": "60b013e2",
   "metadata": {},
   "outputs": [
    {
     "data": {
      "text/html": [
       "<div>\n",
       "<style scoped>\n",
       "    .dataframe tbody tr th:only-of-type {\n",
       "        vertical-align: middle;\n",
       "    }\n",
       "\n",
       "    .dataframe tbody tr th {\n",
       "        vertical-align: top;\n",
       "    }\n",
       "\n",
       "    .dataframe thead th {\n",
       "        text-align: right;\n",
       "    }\n",
       "</style>\n",
       "<table border=\"1\" class=\"dataframe\">\n",
       "  <thead>\n",
       "    <tr style=\"text-align: right;\">\n",
       "      <th></th>\n",
       "      <th>Unnamed: 0</th>\n",
       "      <th>State_Name</th>\n",
       "      <th>District_Name</th>\n",
       "      <th>Crop_Year</th>\n",
       "      <th>Season</th>\n",
       "      <th>Crop</th>\n",
       "      <th>Area</th>\n",
       "      <th>Production</th>\n",
       "      <th>Producation_area_factor</th>\n",
       "      <th>zone</th>\n",
       "    </tr>\n",
       "  </thead>\n",
       "  <tbody>\n",
       "    <tr>\n",
       "      <th>0</th>\n",
       "      <td>0</td>\n",
       "      <td>Andaman and Nicobar Islands</td>\n",
       "      <td>NICOBARS</td>\n",
       "      <td>2000</td>\n",
       "      <td>Kharif</td>\n",
       "      <td>Andaman and Nicobar Islands</td>\n",
       "      <td>1254.0</td>\n",
       "      <td>2000.0</td>\n",
       "      <td>1.594896</td>\n",
       "      <td>Union Territory</td>\n",
       "    </tr>\n",
       "    <tr>\n",
       "      <th>1</th>\n",
       "      <td>1</td>\n",
       "      <td>Andaman and Nicobar Islands</td>\n",
       "      <td>NICOBARS</td>\n",
       "      <td>2000</td>\n",
       "      <td>Kharif</td>\n",
       "      <td>Andaman and Nicobar Islands</td>\n",
       "      <td>2.0</td>\n",
       "      <td>1.0</td>\n",
       "      <td>0.500000</td>\n",
       "      <td>Union Territory</td>\n",
       "    </tr>\n",
       "    <tr>\n",
       "      <th>2</th>\n",
       "      <td>2</td>\n",
       "      <td>Andaman and Nicobar Islands</td>\n",
       "      <td>NICOBARS</td>\n",
       "      <td>2000</td>\n",
       "      <td>Kharif</td>\n",
       "      <td>Andaman and Nicobar Islands</td>\n",
       "      <td>102.0</td>\n",
       "      <td>321.0</td>\n",
       "      <td>3.147059</td>\n",
       "      <td>Union Territory</td>\n",
       "    </tr>\n",
       "    <tr>\n",
       "      <th>3</th>\n",
       "      <td>3</td>\n",
       "      <td>Andaman and Nicobar Islands</td>\n",
       "      <td>NICOBARS</td>\n",
       "      <td>2000</td>\n",
       "      <td>Whole Year</td>\n",
       "      <td>Andaman and Nicobar Islands</td>\n",
       "      <td>176.0</td>\n",
       "      <td>641.0</td>\n",
       "      <td>3.642045</td>\n",
       "      <td>Union Territory</td>\n",
       "    </tr>\n",
       "    <tr>\n",
       "      <th>4</th>\n",
       "      <td>4</td>\n",
       "      <td>Andaman and Nicobar Islands</td>\n",
       "      <td>NICOBARS</td>\n",
       "      <td>2000</td>\n",
       "      <td>Whole Year</td>\n",
       "      <td>Andaman and Nicobar Islands</td>\n",
       "      <td>720.0</td>\n",
       "      <td>165.0</td>\n",
       "      <td>0.229167</td>\n",
       "      <td>Union Territory</td>\n",
       "    </tr>\n",
       "  </tbody>\n",
       "</table>\n",
       "</div>"
      ],
      "text/plain": [
       "   Unnamed: 0                   State_Name District_Name  Crop_Year  \\\n",
       "0           0  Andaman and Nicobar Islands      NICOBARS       2000   \n",
       "1           1  Andaman and Nicobar Islands      NICOBARS       2000   \n",
       "2           2  Andaman and Nicobar Islands      NICOBARS       2000   \n",
       "3           3  Andaman and Nicobar Islands      NICOBARS       2000   \n",
       "4           4  Andaman and Nicobar Islands      NICOBARS       2000   \n",
       "\n",
       "       Season                         Crop    Area  Production  \\\n",
       "0      Kharif  Andaman and Nicobar Islands  1254.0      2000.0   \n",
       "1      Kharif  Andaman and Nicobar Islands     2.0         1.0   \n",
       "2      Kharif  Andaman and Nicobar Islands   102.0       321.0   \n",
       "3  Whole Year  Andaman and Nicobar Islands   176.0       641.0   \n",
       "4  Whole Year  Andaman and Nicobar Islands   720.0       165.0   \n",
       "\n",
       "   Producation_area_factor             zone  \n",
       "0                 1.594896  Union Territory  \n",
       "1                 0.500000  Union Territory  \n",
       "2                 3.147059  Union Territory  \n",
       "3                 3.642045  Union Territory  \n",
       "4                 0.229167  Union Territory  "
      ]
     },
     "execution_count": 40,
     "metadata": {},
     "output_type": "execute_result"
    }
   ],
   "source": [
    "crop_df.head()"
   ]
  },
  {
   "cell_type": "code",
   "execution_count": 41,
   "id": "ef5a2d99",
   "metadata": {},
   "outputs": [
    {
     "data": {
      "text/plain": [
       "zone\n",
       "North India        92752\n",
       "EastIndia          70864\n",
       "South India        46306\n",
       "West India         21208\n",
       "Union Territory     5636\n",
       "Name: count, dtype: int64"
      ]
     },
     "execution_count": 41,
     "metadata": {},
     "output_type": "execute_result"
    }
   ],
   "source": [
    "crop_df['zone'].value_counts()"
   ]
  },
  {
   "cell_type": "code",
   "execution_count": 42,
   "id": "e9dd9a3a",
   "metadata": {},
   "outputs": [
    {
     "data": {
      "text/plain": [
       "Crop_Year\n",
       "2003    15408\n",
       "2002    14926\n",
       "2007    14138\n",
       "2008    14092\n",
       "2006    13837\n",
       "2010    13715\n",
       "2004    13696\n",
       "2011    13667\n",
       "2009    13645\n",
       "2005    13405\n",
       "2013    13352\n",
       "2000    13285\n",
       "2012    13096\n",
       "2001    13000\n",
       "1999    12172\n",
       "1998    11179\n",
       "2014    10750\n",
       "1997     8842\n",
       "2015      561\n",
       "Name: count, dtype: int64"
      ]
     },
     "execution_count": 42,
     "metadata": {},
     "output_type": "execute_result"
    }
   ],
   "source": [
    "# checking value counts of year in dataset\n",
    "\n",
    "crop_df['Crop_Year'].value_counts()"
   ]
  },
  {
   "cell_type": "code",
   "execution_count": 43,
   "id": "57a83c28",
   "metadata": {},
   "outputs": [],
   "source": [
    "# sinces the number of rows for year 2015 is very less so it will not give correct visualization for year 2015 \n",
    "# so we decided to remove it from dataset\n",
    "\n",
    "crop_df.drop(crop_df[crop_df['Crop_Year'] == 2015].index,inplace=True)"
   ]
  },
  {
   "cell_type": "code",
   "execution_count": 44,
   "id": "39231ede",
   "metadata": {
    "scrolled": true
   },
   "outputs": [],
   "source": [
    "val=crop_df.groupby('Crop').sum().sort_values(by='Production',ascending = False)['Production'].values\n",
    "lab=crop_df.groupby('Crop').sum().sort_values(by='Production',ascending = False)['Production'].index"
   ]
  },
  {
   "cell_type": "code",
   "execution_count": 45,
   "id": "1e680869",
   "metadata": {},
   "outputs": [
    {
     "data": {
      "image/png": "[encoded data removed]",
      "text/plain": [
       "<Figure size 1000x800 with 1 Axes>"
      ]
     },
     "metadata": {},
     "output_type": "display_data"
    }
   ],
   "source": [
    "# we plotted pie chart of Production of different crops to check the outliers in crops\n",
    "plt.figure(figsize=(10,8))\n",
    "plt.pie(val,labels=lab,autopct='%0.1f%%')\n",
    "plt.show()"
   ]
  },
  {
   "cell_type": "code",
   "execution_count": 46,
   "id": "42e92738",
   "metadata": {},
   "outputs": [],
   "source": [
    "# we have observed that Production of coconut is more than 92% of total Production so we not able to visualize our dataset\n",
    "# so we have decided to visualize coconut seprately\n",
    "\n",
    "coconut_df = crop_df[crop_df['Crop'] == 'Coconut']\n",
    "\n",
    "coconut_df.to_csv('coconut_df.csv')\n",
    "\n",
    "crop_df.drop(crop_df[crop_df['Crop']=='Coconut'].index,inplace=True)"
   ]
  },
  {
   "cell_type": "code",
   "execution_count": 47,
   "id": "3cf40df7",
   "metadata": {},
   "outputs": [],
   "source": [
    "# we plotted pie chart between total Production and different types of crops after removing outlier \n",
    "\n",
    "val=crop_df.groupby('Crop').sum().sort_values(by='Production',ascending = False)['Production'].values\n",
    "lab=crop_df.groupby('Crop').sum().sort_values(by='Production',ascending = False)['Production'].index"
   ]
  },
  {
   "cell_type": "code",
   "execution_count": 48,
   "id": "798cfdf9",
   "metadata": {
    "scrolled": false
   },
   "outputs": [
    {
     "data": {
      "image/png": "[encoded data removed]",
      "text/plain": [
       "<Figure size 1000x800 with 1 Axes>"
      ]
     },
     "metadata": {},
     "output_type": "display_data"
    }
   ],
   "source": [
    "# we have observed that now our dataset is balance\n",
    "\n",
    "plt.figure(figsize=(10,8))\n",
    "plt.pie(val,labels=lab,autopct='%0.1f%%')\n",
    "plt.show()"
   ]
  },
  {
   "cell_type": "code",
   "execution_count": 49,
   "id": "6d259463",
   "metadata": {},
   "outputs": [],
   "source": [
    "crop_df.to_csv('crop_final.csv')"
   ]
  },
  {
   "cell_type": "markdown",
   "id": "ef89a2c1",
   "metadata": {},
   "source": [
    "# Conclusion "
   ]
  },
  {
   "cell_type": "code",
   "execution_count": 50,
   "id": "55b228f6",
   "metadata": {},
   "outputs": [],
   "source": [
    "# Since we have found out that number of outliers are almost approx 20% and 46000k in numbers so we can not remove these outliers\n",
    "# to avoide loss of information and producation also depends types soil and area,availability of water to farmer\n",
    "# so we dont have much information about these other factors so we cant not remove outliers on basis of Producation_area_factor  \n",
    "# Producation_area_factor can not be same for all crops sinces this factors is hihh for coconut and very less for total_foodgrain\n",
    "# so we cant not compare both on one scale\n",
    "# we have observed that Production of coconut is more than 92% of total Production so we not able to visualize our dataset\n",
    "# so we have decided to consider coconut as an outlier and we have removed it from dataset"
   ]
  }
 ],
 "metadata": {
  "kernelspec": {
   "display_name": "Python 3",
   "language": "python",
   "name": "python3"
  },
  "language_info": {
   "codemirror_mode": {
    "name": "ipython",
    "version": 3
   },
   "file_extension": ".py",
   "mimetype": "text/x-python",
   "name": "python",
   "nbconvert_exporter": "python",
   "pygments_lexer": "ipython3",
   "version": "3.12.4"
  }
 },
 "nbformat": 4,
 "nbformat_minor": 5
}
